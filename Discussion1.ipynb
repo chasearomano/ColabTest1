{
  "nbformat": 4,
  "nbformat_minor": 0,
  "metadata": {
    "colab": {
      "name": "Discussion1.ipynb",
      "provenance": [],
      "authorship_tag": "ABX9TyMMiv97OS54JycVRjQ65FMg",
      "include_colab_link": true
    },
    "kernelspec": {
      "name": "python3",
      "display_name": "Python 3"
    }
  },
  "cells": [
    {
      "cell_type": "markdown",
      "metadata": {
        "id": "view-in-github",
        "colab_type": "text"
      },
      "source": [
        "<a href=\"https://colab.research.google.com/github/chasearomano/ColabTest1/blob/master/Discussion1.ipynb\" target=\"_parent\"><img src=\"https://colab.research.google.com/assets/colab-badge.svg\" alt=\"Open In Colab\"/></a>"
      ]
    },
    {
      "cell_type": "code",
      "metadata": {
        "id": "8fQpXQsGQ1lB",
        "colab_type": "code",
        "colab": {}
      },
      "source": [
        ""
      ],
      "execution_count": 0,
      "outputs": []
    },
    {
      "cell_type": "code",
      "metadata": {
        "id": "VE6ik3hLQ5Uj",
        "colab_type": "code",
        "colab": {}
      },
      "source": [
        "def hello(): return 1"
      ],
      "execution_count": 0,
      "outputs": []
    }
  ]
}